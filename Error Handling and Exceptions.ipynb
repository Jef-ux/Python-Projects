{
 "cells": [
  {
   "cell_type": "code",
   "execution_count": 1,
   "id": "0e426ff1",
   "metadata": {},
   "outputs": [],
   "source": [
    "#try\n",
    "#except\n",
    "#finally"
   ]
  },
  {
   "cell_type": "code",
   "execution_count": 2,
   "id": "0252223e",
   "metadata": {},
   "outputs": [],
   "source": [
    "#the try block of code is the one you attempt to run. It could have errors or not"
   ]
  },
  {
   "cell_type": "code",
   "execution_count": 3,
   "id": "4821e069",
   "metadata": {},
   "outputs": [],
   "source": [
    "#the except block of code will run if there is an error in the try block"
   ]
  },
  {
   "cell_type": "code",
   "execution_count": 4,
   "id": "f3cfbf0f",
   "metadata": {},
   "outputs": [],
   "source": [
    "#because a script automatically ends when an error is spotted, the finally block of \n",
    "#code allows other blocks of code under the except block to run regardless of whether an\n",
    "#error was spotted or not. It is always run. "
   ]
  },
  {
   "cell_type": "code",
   "execution_count": 5,
   "id": "2e5d66e4",
   "metadata": {},
   "outputs": [],
   "source": [
    "#It is possible to have an else statement after the except block. If present, one of them \n",
    "#always get run when executed."
   ]
  },
  {
   "cell_type": "code",
   "execution_count": 6,
   "id": "aba42f15",
   "metadata": {},
   "outputs": [
    {
     "name": "stdout",
     "output_type": "stream",
     "text": [
      "I am the master key. Nothing stops me from running!\n"
     ]
    }
   ],
   "source": [
    "#example:\n",
    "try:\n",
    "    open_file = open('example_file','w')\n",
    "    open_file.write('This gets executed without an error')\n",
    "except:\n",
    "    print('An error was spotted there, sir!')\n",
    "finally:\n",
    "    print('I am the master key. Nothing stops me from running!')"
   ]
  },
  {
   "cell_type": "code",
   "execution_count": 7,
   "id": "9590102d",
   "metadata": {},
   "outputs": [
    {
     "name": "stdout",
     "output_type": "stream",
     "text": [
      "To execute if error is spotted\n",
      "Errors or not, I am a constant!\n"
     ]
    }
   ],
   "source": [
    "#example 2: (to show which block gets run if any errors are spotted)\n",
    "try:\n",
    "    open_txt_file = open('example_file','r')\n",
    "    open_txt_file.wwrite('This should raise an error cus example_file was opened in read mode')\n",
    "except:\n",
    "    print('To execute if error is spotted')\n",
    "finally:\n",
    "    print('Errors or not, I am a constant!')"
   ]
  },
  {
   "cell_type": "code",
   "execution_count": 8,
   "id": "906d9d3c",
   "metadata": {},
   "outputs": [
    {
     "name": "stdout",
     "output_type": "stream",
     "text": [
      "I run cus an error was not spotted\n",
      "You know who i am. I am not an actor!\n"
     ]
    }
   ],
   "source": [
    "#example 3: (to show how an else statement after the excpt block works)\n",
    "try:\n",
    "    open_file = open('example_file','r')\n",
    "    open_file.read\n",
    "except:\n",
    "    print('An error was spotted there, sir!')\n",
    "else:\n",
    "    print('I run cus an error was not spotted')\n",
    "finally:\n",
    "    print('You know who i am. I am not an actor!')"
   ]
  },
  {
   "cell_type": "code",
   "execution_count": 11,
   "id": "ebbe9e00",
   "metadata": {},
   "outputs": [],
   "source": [
    "#testing this in a function with a while loop\n",
    "def choose_integer():\n",
    "    \n",
    "    while True: \n",
    "        try:\n",
    "            num = int(input('Choose your integer: '))\n",
    "        except:\n",
    "            print('Do that again!')\n",
    "            continue\n",
    "        else:\n",
    "            print('Now that is right! Thank you.')\n",
    "            break"
   ]
  },
  {
   "cell_type": "code",
   "execution_count": 12,
   "id": "7e44fa40",
   "metadata": {},
   "outputs": [
    {
     "name": "stdout",
     "output_type": "stream",
     "text": [
      "Choose your integer: d\n",
      "Do that again!\n",
      "Choose your integer: 11\n",
      "Now that is right! Thank you.\n"
     ]
    }
   ],
   "source": [
    "choose_integer()"
   ]
  },
  {
   "cell_type": "code",
   "execution_count": null,
   "id": "03109ef2",
   "metadata": {},
   "outputs": [],
   "source": []
  },
  {
   "cell_type": "code",
   "execution_count": null,
   "id": "ce4af9e0",
   "metadata": {},
   "outputs": [],
   "source": []
  },
  {
   "cell_type": "code",
   "execution_count": null,
   "id": "1cda94b4",
   "metadata": {},
   "outputs": [],
   "source": []
  },
  {
   "cell_type": "code",
   "execution_count": 13,
   "id": "3f2d4267",
   "metadata": {},
   "outputs": [
    {
     "ename": "TypeError",
     "evalue": "unsupported operand type(s) for ** or pow(): 'str' and 'int'",
     "output_type": "error",
     "traceback": [
      "\u001b[1;31m---------------------------------------------------------------------------\u001b[0m",
      "\u001b[1;31mTypeError\u001b[0m                                 Traceback (most recent call last)",
      "\u001b[1;32m<ipython-input-13-c35f41ad7311>\u001b[0m in \u001b[0;36m<module>\u001b[1;34m\u001b[0m\n\u001b[0;32m      1\u001b[0m \u001b[1;32mfor\u001b[0m \u001b[0mi\u001b[0m \u001b[1;32min\u001b[0m \u001b[1;33m[\u001b[0m\u001b[1;34m'a'\u001b[0m\u001b[1;33m,\u001b[0m\u001b[1;34m'b'\u001b[0m\u001b[1;33m,\u001b[0m\u001b[1;34m'c'\u001b[0m\u001b[1;33m]\u001b[0m\u001b[1;33m:\u001b[0m\u001b[1;33m\u001b[0m\u001b[1;33m\u001b[0m\u001b[0m\n\u001b[1;32m----> 2\u001b[1;33m     \u001b[0mprint\u001b[0m\u001b[1;33m(\u001b[0m\u001b[0mi\u001b[0m\u001b[1;33m**\u001b[0m\u001b[1;36m2\u001b[0m\u001b[1;33m)\u001b[0m\u001b[1;33m\u001b[0m\u001b[1;33m\u001b[0m\u001b[0m\n\u001b[0m",
      "\u001b[1;31mTypeError\u001b[0m: unsupported operand type(s) for ** or pow(): 'str' and 'int'"
     ]
    }
   ],
   "source": [
    "for i in ['a','b','c']:\n",
    "    print(i**2)"
   ]
  },
  {
   "cell_type": "code",
   "execution_count": 15,
   "id": "e73a351c",
   "metadata": {},
   "outputs": [
    {
     "name": "stdout",
     "output_type": "stream",
     "text": [
      "That wouldnt work!\n"
     ]
    }
   ],
   "source": [
    "try:\n",
    "    print(i**2)\n",
    "except TypeError:\n",
    "    print('That wouldnt work!')"
   ]
  },
  {
   "cell_type": "code",
   "execution_count": 21,
   "id": "6027976b",
   "metadata": {},
   "outputs": [
    {
     "name": "stdout",
     "output_type": "stream",
     "text": [
      "Division by zero. Impossible!\n",
      "All Done.\n"
     ]
    }
   ],
   "source": [
    "try:\n",
    "    5/0\n",
    "except ZeroDivisionError:\n",
    "    print('Division by zero. Impossible!')\n",
    "finally:\n",
    "    print('All Done.')"
   ]
  },
  {
   "cell_type": "code",
   "execution_count": 39,
   "id": "b0e84c99",
   "metadata": {},
   "outputs": [],
   "source": [
    "def ask_for_num():\n",
    "    \n",
    "    while True:\n",
    "    \n",
    "        try:\n",
    "            num = int(input('Choose your number, please: '))\n",
    "        except:\n",
    "            print('There was an error. Please try again \\n')\n",
    "            continue\n",
    "        else:\n",
    "            break\n",
    "            \n",
    "    print('Thank you. Your squared number is: ')\n",
    "    print(num**2)"
   ]
  },
  {
   "cell_type": "code",
   "execution_count": 40,
   "id": "a4fd4db3",
   "metadata": {},
   "outputs": [
    {
     "name": "stdout",
     "output_type": "stream",
     "text": [
      "Choose your number, please: k\n",
      "There was an error. Please try again \n",
      "\n",
      "Choose your number, please: 9\n",
      "Thank you. Your squared number is: \n",
      "81\n"
     ]
    }
   ],
   "source": [
    "ask_for_num()"
   ]
  },
  {
   "cell_type": "code",
   "execution_count": null,
   "id": "e2f42866",
   "metadata": {},
   "outputs": [],
   "source": []
  },
  {
   "cell_type": "code",
   "execution_count": null,
   "id": "dd1ef4fb",
   "metadata": {},
   "outputs": [],
   "source": []
  },
  {
   "cell_type": "code",
   "execution_count": null,
   "id": "1db56a1e",
   "metadata": {},
   "outputs": [],
   "source": []
  },
  {
   "cell_type": "code",
   "execution_count": null,
   "id": "abdc0b6b",
   "metadata": {},
   "outputs": [],
   "source": []
  },
  {
   "cell_type": "code",
   "execution_count": null,
   "id": "6df8e7da",
   "metadata": {},
   "outputs": [],
   "source": []
  },
  {
   "cell_type": "code",
   "execution_count": null,
   "id": "b7389b75",
   "metadata": {},
   "outputs": [],
   "source": []
  },
  {
   "cell_type": "code",
   "execution_count": null,
   "id": "46eeb597",
   "metadata": {},
   "outputs": [],
   "source": []
  }
 ],
 "metadata": {
  "kernelspec": {
   "display_name": "Python 3",
   "language": "python",
   "name": "python3"
  },
  "language_info": {
   "codemirror_mode": {
    "name": "ipython",
    "version": 3
   },
   "file_extension": ".py",
   "mimetype": "text/x-python",
   "name": "python",
   "nbconvert_exporter": "python",
   "pygments_lexer": "ipython3",
   "version": "3.8.8"
  }
 },
 "nbformat": 4,
 "nbformat_minor": 5
}

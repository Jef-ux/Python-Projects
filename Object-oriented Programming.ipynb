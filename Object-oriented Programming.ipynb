{
 "cells": [
  {
   "cell_type": "code",
   "execution_count": 6,
   "id": "88c5d590",
   "metadata": {},
   "outputs": [],
   "source": [
    "class GameConsole():\n",
    "    \n",
    "    #if any class object attributes, it goes here!\n",
    "    #they wil be the same for all objects at any instance\n",
    "    \n",
    "    console = 'This is strictly for gaming purposes'\n",
    "    \n",
    "    def __init__(self,color,brand,shape,name,powerful):\n",
    "        \n",
    "        self.color = color\n",
    "        self.brand = brand\n",
    "        self.shape = shape\n",
    "        self.name = name\n",
    "        self.powerful = powerful\n",
    "        \n",
    "     #operations/actions --- methods\n",
    "    def boot_up(self,year):\n",
    "        print(f'Welcome to your {self.name}. {year} is the year!')"
   ]
  },
  {
   "cell_type": "code",
   "execution_count": 7,
   "id": "4d05df2e",
   "metadata": {},
   "outputs": [],
   "source": [
    "my_console = GameConsole(color = 'white', brand = 'PlayStation', shape = 'colossal', name = 'PS5', powerful = True)"
   ]
  },
  {
   "cell_type": "code",
   "execution_count": 8,
   "id": "863d34e9",
   "metadata": {},
   "outputs": [
    {
     "data": {
      "text/plain": [
       "__main__.GameConsole"
      ]
     },
     "execution_count": 8,
     "metadata": {},
     "output_type": "execute_result"
    }
   ],
   "source": [
    "type(my_console)"
   ]
  },
  {
   "cell_type": "code",
   "execution_count": 9,
   "id": "12ed9d5b",
   "metadata": {},
   "outputs": [
    {
     "name": "stdout",
     "output_type": "stream",
     "text": [
      "Welcome to your PS5. 2022 is the year!\n"
     ]
    }
   ],
   "source": [
    "my_console.boot_up(2022)"
   ]
  },
  {
   "cell_type": "code",
   "execution_count": 10,
   "id": "fbed9e59",
   "metadata": {},
   "outputs": [
    {
     "data": {
      "text/plain": [
       "'This is strictly for gaming purposes'"
      ]
     },
     "execution_count": 10,
     "metadata": {},
     "output_type": "execute_result"
    }
   ],
   "source": [
    "GameConsole.console"
   ]
  },
  {
   "cell_type": "code",
   "execution_count": null,
   "id": "b5fe2425",
   "metadata": {},
   "outputs": [],
   "source": []
  },
  {
   "cell_type": "code",
   "execution_count": null,
   "id": "1c6b7949",
   "metadata": {},
   "outputs": [],
   "source": []
  },
  {
   "cell_type": "code",
   "execution_count": null,
   "id": "29bbe6df",
   "metadata": {},
   "outputs": [],
   "source": []
  },
  {
   "cell_type": "code",
   "execution_count": 11,
   "id": "8d601040",
   "metadata": {},
   "outputs": [],
   "source": [
    "#Inheritance and polymorphism"
   ]
  },
  {
   "cell_type": "code",
   "execution_count": 13,
   "id": "c4ba8b27",
   "metadata": {},
   "outputs": [],
   "source": [
    "#step1: create a base class"
   ]
  },
  {
   "cell_type": "code",
   "execution_count": 34,
   "id": "85323792",
   "metadata": {},
   "outputs": [],
   "source": [
    "class Alcohol():\n",
    "    \n",
    "    def __init__(self):\n",
    "        print('Wine or Whiskey')\n",
    "        \n",
    "    def drink(self):\n",
    "        print('I am drinking!')\n",
    "        \n",
    "    def what_type_of_alcohol(self):\n",
    "        print('I am not sure')\n",
    "                      "
   ]
  },
  {
   "cell_type": "code",
   "execution_count": 35,
   "id": "222746a2",
   "metadata": {},
   "outputs": [],
   "source": [
    "#step2: create a class that will inherit from the base class"
   ]
  },
  {
   "cell_type": "code",
   "execution_count": 48,
   "id": "88c3aef5",
   "metadata": {},
   "outputs": [],
   "source": [
    "class Brand1(Alcohol):\n",
    "    \n",
    "    def __init__(self):\n",
    "        Alcohol.__init__(self)\n",
    "        print('I am tender and suitable for everyone!')\n",
    "    \n",
    "    #to replace, you reassign the attribute or method in this class\n",
    "    \n",
    "    def what_type_of_alcohol(self):\n",
    "        print('I am wine!')\n",
    "      \n",
    "    #to add, you simply add yours\n",
    "    \n",
    "    def alcohol_types(self):\n",
    "        print('Red')\n",
    "        print('White')"
   ]
  },
  {
   "cell_type": "code",
   "execution_count": 54,
   "id": "ee7a72cd",
   "metadata": {},
   "outputs": [],
   "source": [
    "class Brand2(Brand1):\n",
    "    \n",
    "    def __init__(self):\n",
    "        Brand1.__init__(self)\n",
    "        print('I am the shit when it comes to high!')\n",
    "        \n",
    "    def what_type_of_alcohol(self):\n",
    "        print('I am whiskey!')"
   ]
  },
  {
   "cell_type": "code",
   "execution_count": 55,
   "id": "5b20b2db",
   "metadata": {},
   "outputs": [
    {
     "name": "stdout",
     "output_type": "stream",
     "text": [
      "Wine or Whiskey\n"
     ]
    }
   ],
   "source": [
    "myalcohol = Alcohol()"
   ]
  },
  {
   "cell_type": "code",
   "execution_count": 56,
   "id": "3359c501",
   "metadata": {},
   "outputs": [
    {
     "name": "stdout",
     "output_type": "stream",
     "text": [
      "I am drinking!\n"
     ]
    }
   ],
   "source": [
    "myalcohol.drink()"
   ]
  },
  {
   "cell_type": "code",
   "execution_count": 57,
   "id": "f66146be",
   "metadata": {},
   "outputs": [
    {
     "name": "stdout",
     "output_type": "stream",
     "text": [
      "I am not sure\n"
     ]
    }
   ],
   "source": [
    "myalcohol.what_type_of_alcohol()"
   ]
  },
  {
   "cell_type": "code",
   "execution_count": 59,
   "id": "07ab0e0a",
   "metadata": {},
   "outputs": [
    {
     "name": "stdout",
     "output_type": "stream",
     "text": [
      "Wine or Whiskey\n",
      "I am tender and suitable for everyone!\n",
      "I am the shit when it comes to high!\n"
     ]
    }
   ],
   "source": [
    "alcohol_brand =  Brand2()\n",
    "#what is happening here is that this class inherits from both base and Brand1\n",
    "#the base __init__ is here cus Brand1 inherited that"
   ]
  },
  {
   "cell_type": "code",
   "execution_count": 61,
   "id": "04600f5a",
   "metadata": {},
   "outputs": [
    {
     "name": "stdout",
     "output_type": "stream",
     "text": [
      "Red\n",
      "White\n"
     ]
    }
   ],
   "source": [
    "alcohol_brand.alcohol_types()"
   ]
  },
  {
   "cell_type": "code",
   "execution_count": 63,
   "id": "73f1cddd",
   "metadata": {},
   "outputs": [
    {
     "name": "stdout",
     "output_type": "stream",
     "text": [
      "Wine or Whiskey\n",
      "I am tender and suitable for everyone!\n"
     ]
    }
   ],
   "source": [
    "alcohol_brand = Brand1()"
   ]
  },
  {
   "cell_type": "code",
   "execution_count": 64,
   "id": "9a3a088e",
   "metadata": {},
   "outputs": [
    {
     "name": "stdout",
     "output_type": "stream",
     "text": [
      "I am wine!\n"
     ]
    }
   ],
   "source": [
    "alcohol_brand.what_type_of_alcohol()"
   ]
  },
  {
   "cell_type": "code",
   "execution_count": 66,
   "id": "2bd6840a",
   "metadata": {},
   "outputs": [
    {
     "name": "stdout",
     "output_type": "stream",
     "text": [
      "Red\n",
      "White\n"
     ]
    }
   ],
   "source": [
    "alcohol_brand.alcohol_types()"
   ]
  },
  {
   "cell_type": "code",
   "execution_count": 67,
   "id": "fb52b494",
   "metadata": {},
   "outputs": [
    {
     "name": "stdout",
     "output_type": "stream",
     "text": [
      "I am drinking!\n"
     ]
    }
   ],
   "source": [
    "alcohol_brand.drink()"
   ]
  },
  {
   "cell_type": "code",
   "execution_count": null,
   "id": "f669b515",
   "metadata": {},
   "outputs": [],
   "source": []
  },
  {
   "cell_type": "code",
   "execution_count": null,
   "id": "a95818cd",
   "metadata": {},
   "outputs": [],
   "source": []
  },
  {
   "cell_type": "code",
   "execution_count": 68,
   "id": "41b65039",
   "metadata": {},
   "outputs": [],
   "source": [
    "#special methods"
   ]
  },
  {
   "cell_type": "code",
   "execution_count": 69,
   "id": "af8d33ca",
   "metadata": {},
   "outputs": [],
   "source": [
    "#1. __str__(returns the actual string rep so you can print out user-defined objs)\n",
    "#2.__len__(returns the len so you can return length of user-defined objs)\n",
    "#3.__del__(deletes variables from the memory of the computer)"
   ]
  },
  {
   "cell_type": "code",
   "execution_count": 124,
   "id": "ede40850",
   "metadata": {},
   "outputs": [],
   "source": [
    "class Series():\n",
    "    \n",
    "    def __init__(self,name,duration,writer):\n",
    "        self.name = name\n",
    "        self.duration = duration\n",
    "        self.writer = writer\n",
    "    \n",
    "    def __str__(self):\n",
    "        return f'This is {self.name} by {self.writer}'\n",
    "    \n",
    "    def __len__(self):\n",
    "        return self.duration \n",
    "    \n",
    "    def __del__(self):\n",
    "        print('Series has been deleted')"
   ]
  },
  {
   "cell_type": "code",
   "execution_count": 125,
   "id": "88262b32",
   "metadata": {},
   "outputs": [],
   "source": [
    "s = Series('Ops Python Dance',60,'Keshi Robo')"
   ]
  },
  {
   "cell_type": "code",
   "execution_count": 126,
   "id": "ca48835f",
   "metadata": {},
   "outputs": [
    {
     "name": "stdout",
     "output_type": "stream",
     "text": [
      "This is Ops Python Dance by Keshi Robo\n"
     ]
    }
   ],
   "source": [
    "print(s)"
   ]
  },
  {
   "cell_type": "code",
   "execution_count": 127,
   "id": "66de4cbf",
   "metadata": {},
   "outputs": [
    {
     "data": {
      "text/plain": [
       "60"
      ]
     },
     "execution_count": 127,
     "metadata": {},
     "output_type": "execute_result"
    }
   ],
   "source": [
    "len(s)"
   ]
  },
  {
   "cell_type": "code",
   "execution_count": 128,
   "id": "10ec6f80",
   "metadata": {},
   "outputs": [
    {
     "name": "stdout",
     "output_type": "stream",
     "text": [
      "Series has been deleted\n"
     ]
    }
   ],
   "source": [
    "del s"
   ]
  },
  {
   "cell_type": "code",
   "execution_count": 129,
   "id": "f66e155d",
   "metadata": {},
   "outputs": [
    {
     "name": "stdout",
     "output_type": "stream",
     "text": [
      "Series has been deleted\n",
      "Series has been deleted\n"
     ]
    },
    {
     "ename": "NameError",
     "evalue": "name 's' is not defined",
     "output_type": "error",
     "traceback": [
      "\u001b[1;31m---------------------------------------------------------------------------\u001b[0m",
      "\u001b[1;31mNameError\u001b[0m                                 Traceback (most recent call last)",
      "\u001b[1;32m<ipython-input-129-ded5ba42480f>\u001b[0m in \u001b[0;36m<module>\u001b[1;34m\u001b[0m\n\u001b[1;32m----> 1\u001b[1;33m \u001b[0ms\u001b[0m\u001b[1;33m\u001b[0m\u001b[1;33m\u001b[0m\u001b[0m\n\u001b[0m",
      "\u001b[1;31mNameError\u001b[0m: name 's' is not defined"
     ]
    }
   ],
   "source": [
    "s"
   ]
  },
  {
   "cell_type": "code",
   "execution_count": null,
   "id": "4c643c43",
   "metadata": {},
   "outputs": [],
   "source": []
  },
  {
   "cell_type": "code",
   "execution_count": null,
   "id": "e37b5d34",
   "metadata": {},
   "outputs": [],
   "source": []
  },
  {
   "cell_type": "code",
   "execution_count": null,
   "id": "1cd4ca53",
   "metadata": {},
   "outputs": [],
   "source": [
    "#Homework"
   ]
  },
  {
   "cell_type": "code",
   "execution_count": 158,
   "id": "e17b74c9",
   "metadata": {},
   "outputs": [],
   "source": [
    "class Cylinder():\n",
    "    \n",
    "    pi = 3.14\n",
    "    \n",
    "    def __init__(self,height=1,radius=1):\n",
    "        self.height = height\n",
    "        self.radius = radius\n",
    "        \n",
    "    def volume(self):\n",
    "        return Cylinder.pi * self.radius**2 * self.height\n",
    "    \n",
    "    def surface_area(self):\n",
    "        return ((2 * (Cylinder.pi * self.radius * self.height)) + (2 * (Cylinder.pi * self.radius**2)))"
   ]
  },
  {
   "cell_type": "code",
   "execution_count": 159,
   "id": "92ea20ea",
   "metadata": {},
   "outputs": [],
   "source": [
    "c = Cylinder(2,3)"
   ]
  },
  {
   "cell_type": "code",
   "execution_count": 160,
   "id": "f12132b7",
   "metadata": {},
   "outputs": [
    {
     "data": {
      "text/plain": [
       "56.52"
      ]
     },
     "execution_count": 160,
     "metadata": {},
     "output_type": "execute_result"
    }
   ],
   "source": [
    "c.volume()"
   ]
  },
  {
   "cell_type": "code",
   "execution_count": 161,
   "id": "f525203b",
   "metadata": {},
   "outputs": [
    {
     "data": {
      "text/plain": [
       "94.2"
      ]
     },
     "execution_count": 161,
     "metadata": {},
     "output_type": "execute_result"
    }
   ],
   "source": [
    "c.surface_area()"
   ]
  },
  {
   "cell_type": "code",
   "execution_count": null,
   "id": "45163bfb",
   "metadata": {},
   "outputs": [],
   "source": []
  },
  {
   "cell_type": "code",
   "execution_count": null,
   "id": "c739ac77",
   "metadata": {},
   "outputs": [],
   "source": []
  },
  {
   "cell_type": "code",
   "execution_count": 162,
   "id": "9b71752c",
   "metadata": {},
   "outputs": [
    {
     "name": "stdout",
     "output_type": "stream",
     "text": [
      "Series has been deleted\n",
      "Series has been deleted\n"
     ]
    }
   ],
   "source": [
    "class Line():\n",
    "    \n",
    "    def __init__(self,coor1,coor2):\n",
    "        self.coor1 = coor1\n",
    "        self.coor2 = coor2\n",
    "    \n",
    "    def distance(self):\n",
    "        x1,y1 = self.coor1\n",
    "        x2,y2 = self.coor2\n",
    "        return ((x2-x1)**2 + (y2-y1)**2)**0.5\n",
    "    \n",
    "    def slope(self):\n",
    "        x1,y1 = self.coor1\n",
    "        x2,y2 = self.coor2\n",
    "        return ((y2-y1)/(x2-x1))"
   ]
  },
  {
   "cell_type": "code",
   "execution_count": 163,
   "id": "73023450",
   "metadata": {},
   "outputs": [],
   "source": [
    "coordinate1 = (3,2)\n",
    "coordinate2 = (8,10)\n",
    "\n",
    "li = Line(coordinate1,coordinate2)"
   ]
  },
  {
   "cell_type": "code",
   "execution_count": 164,
   "id": "be82818a",
   "metadata": {},
   "outputs": [
    {
     "data": {
      "text/plain": [
       "1.6"
      ]
     },
     "execution_count": 164,
     "metadata": {},
     "output_type": "execute_result"
    }
   ],
   "source": [
    "li.slope()"
   ]
  },
  {
   "cell_type": "code",
   "execution_count": 165,
   "id": "64a607a6",
   "metadata": {},
   "outputs": [
    {
     "data": {
      "text/plain": [
       "9.433981132056603"
      ]
     },
     "execution_count": 165,
     "metadata": {},
     "output_type": "execute_result"
    }
   ],
   "source": [
    "li.distance()"
   ]
  },
  {
   "cell_type": "code",
   "execution_count": 166,
   "id": "762550f3",
   "metadata": {},
   "outputs": [
    {
     "data": {
      "text/plain": [
       "(3, 2)"
      ]
     },
     "execution_count": 166,
     "metadata": {},
     "output_type": "execute_result"
    }
   ],
   "source": [
    "li.coor1"
   ]
  },
  {
   "cell_type": "code",
   "execution_count": 167,
   "id": "1442c1a6",
   "metadata": {},
   "outputs": [
    {
     "data": {
      "text/plain": [
       "(8, 10)"
      ]
     },
     "execution_count": 167,
     "metadata": {},
     "output_type": "execute_result"
    }
   ],
   "source": [
    "li.coor2"
   ]
  },
  {
   "cell_type": "code",
   "execution_count": null,
   "id": "99d0260d",
   "metadata": {},
   "outputs": [],
   "source": []
  }
 ],
 "metadata": {
  "kernelspec": {
   "display_name": "Python 3",
   "language": "python",
   "name": "python3"
  },
  "language_info": {
   "codemirror_mode": {
    "name": "ipython",
    "version": 3
   },
   "file_extension": ".py",
   "mimetype": "text/x-python",
   "name": "python",
   "nbconvert_exporter": "python",
   "pygments_lexer": "ipython3",
   "version": "3.8.8"
  }
 },
 "nbformat": 4,
 "nbformat_minor": 5
}

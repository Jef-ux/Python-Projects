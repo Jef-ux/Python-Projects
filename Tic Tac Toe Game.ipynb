{
 "cells": [
  {
   "cell_type": "code",
   "execution_count": null,
   "id": "13c83914",
   "metadata": {},
   "outputs": [],
   "source": [
    "#milestone project to build a tic tac toe game"
   ]
  },
  {
   "cell_type": "code",
   "execution_count": null,
   "id": "f7f40d3b",
   "metadata": {},
   "outputs": [],
   "source": []
  },
  {
   "cell_type": "code",
   "execution_count": null,
   "id": "8d7ebfc3",
   "metadata": {},
   "outputs": [],
   "source": []
  },
  {
   "cell_type": "code",
   "execution_count": null,
   "id": "3e335667",
   "metadata": {},
   "outputs": [],
   "source": [
    "from IPython.display import clear_output\n",
    "\n",
    "def display_game(board):\n",
    "    clear_output()\n",
    "    #clear output is used to prevent multiple printing of the board should... \n",
    "    #this function be called multiple times\n",
    "    #note that clear_output() works only in Jupyter\n",
    "    print(board[1]+'|'+board[2]+'|'+board[3])\n",
    "    print(board[4]+'|'+board[5]+'|'+board[6])\n",
    "    print(board[7]+'|'+board[8]+'|'+board[9])"
   ]
  },
  {
   "cell_type": "code",
   "execution_count": null,
   "id": "8b189241",
   "metadata": {},
   "outputs": [],
   "source": [
    "def player_marker_input():\n",
    "   #funtion takes in a player input to and assigns marker as 'X' or 'O' \n",
    "    marker = ''\n",
    "    \n",
    "    while marker != 'X' and marker != 'O':\n",
    "        marker = input('Player 1, please choose your marker (X or O): ').upper()\n",
    "    \n",
    "    if marker == 'X':\n",
    "        return ('X', 'O')\n",
    "    else:\n",
    "        return ('O', 'X') "
   ]
  },
  {
   "cell_type": "code",
   "execution_count": null,
   "id": "3c281fd6",
   "metadata": {},
   "outputs": [],
   "source": [
    "def spot_marker(board, marker, position):\n",
    "    #function assigns player's marker to their chosen position on the board\n",
    "    board[position] = marker"
   ]
  },
  {
   "cell_type": "code",
   "execution_count": null,
   "id": "94c876bc",
   "metadata": {},
   "outputs": [],
   "source": [
    "def win_check(board,mark):\n",
    "    #function checks with these combinations if a player has won \n",
    "    return ((board[1] == board[5] == board[9] == mark) or\n",
    "    (board[1] == board[2] == board[3] == mark) or\n",
    "    (board[1] == board[4] == board[7] == mark) or\n",
    "    (board[2] == board[5] == board[8] == mark) or\n",
    "    (board[3] == board[6] == board[9] == mark) or\n",
    "    (board[3] == board[5] == board[7] == mark) or  \n",
    "    (board[4] == board[5] == board[6] == mark) or \n",
    "    (board[7] == board[8] == board[9] == mark))      "
   ]
  },
  {
   "cell_type": "code",
   "execution_count": null,
   "id": "c3e6355c",
   "metadata": {},
   "outputs": [],
   "source": [
    "import random\n",
    "\n",
    "def choose_first():\n",
    "    #function randomly decides which player goes first\n",
    "    if random.randint(1, 2) == 2:\n",
    "        return 'Player 2'\n",
    "    else:\n",
    "        return 'Player 1'"
   ]
  },
  {
   "cell_type": "code",
   "execution_count": null,
   "id": "6cdf3c00",
   "metadata": {},
   "outputs": [],
   "source": [
    "def spot_check(board, position):\n",
    "    #checks whether a position on the board is free\n",
    "    return board[position] == ' '"
   ]
  },
  {
   "cell_type": "code",
   "execution_count": null,
   "id": "0f5b1091",
   "metadata": {},
   "outputs": [],
   "source": [
    "def full_board_check(board):\n",
    "    #loops through the entire board and uses space_check() to confirm if...\n",
    "    #are any free spots on the board\n",
    "    for spot in range(1,10):\n",
    "        if spot_check(board, spot):\n",
    "            return False\n",
    "    return True"
   ]
  },
  {
   "cell_type": "code",
   "execution_count": null,
   "id": "15a5c705",
   "metadata": {},
   "outputs": [],
   "source": [
    "def player_choice(board):\n",
    "    #asks for player's next position, then uses space_check() to ascertain...\n",
    "    #that the choosen position is a free spot, then goes ahead to return player\n",
    "    #choice for later use\n",
    "    position = 0\n",
    "    \n",
    "    while position not in range(1,10) or not spot_check(board, position):\n",
    "        position = int(input('Please, pick your next position within the range(1-9)'))\n",
    "        \n",
    "    return position "
   ]
  },
  {
   "cell_type": "code",
   "execution_count": null,
   "id": "2421f57f",
   "metadata": {},
   "outputs": [],
   "source": [
    "def replay():\n",
    "    \n",
    "    return input('Still Playing? Yes or No: ').lower().startswith('y')"
   ]
  },
  {
   "cell_type": "code",
   "execution_count": null,
   "id": "2e0078f2",
   "metadata": {},
   "outputs": [],
   "source": [
    "print('Welcome to my Tic Tac Toe Project!')\n",
    "\n",
    "while True:\n",
    "    # Reset the board\n",
    "    game_board = [' '] * 10 \n",
    "    player1_marker, player2_marker = player_marker_input()\n",
    "    player_turn = choose_first()\n",
    "    print(player_turn + ' will go first.')\n",
    "    \n",
    "    start_game = input('Ready? Y or N: ')\n",
    "    \n",
    "    if start_game.lower()[0] == 'y':\n",
    "        game_on = True\n",
    "    else:\n",
    "        game_on = False\n",
    "\n",
    "    while game_on:\n",
    "        if player_turn == 'Player 1':\n",
    "            # Player1's turn.\n",
    "            \n",
    "            display_game(game_board)\n",
    "            position = player_choice(game_board)\n",
    "            spot_marker(game_board, player1_marker, position)\n",
    "\n",
    "            if win_check(game_board, player1_marker):\n",
    "                display_game(game_board)\n",
    "                print('Congratulations! You Won!')\n",
    "                game_on = False\n",
    "            else:\n",
    "                if full_board_check(game_board):\n",
    "                    display_game(game_board)\n",
    "                    print('DRAW!')\n",
    "                    break\n",
    "                else:\n",
    "                    player_turn = 'Player 2'\n",
    "\n",
    "        else:\n",
    "            # Player2's turn.\n",
    "            \n",
    "            display_game(game_board)\n",
    "            position = player_choice(game_board)\n",
    "            spot_marker(game_board, player2_marker, position)\n",
    "\n",
    "            if win_check(game_board, player2_marker):\n",
    "                display_game(game_board)\n",
    "                print('Congratulations! You have won the game!')\n",
    "                game_on = False\n",
    "            else:\n",
    "                if full_board_check(game_board):\n",
    "                    display_game(game_board)\n",
    "                    print('DRAW!')\n",
    "                    break\n",
    "                else:\n",
    "                    player_turn = 'Player 1'\n",
    "                    \n",
    "                    \n",
    "    if not replay():\n",
    "        break"
   ]
  },
  {
   "cell_type": "raw",
   "id": "c9e1a6bb",
   "metadata": {},
   "source": []
  }
 ],
 "metadata": {
  "kernelspec": {
   "display_name": "Python 3",
   "language": "python",
   "name": "python3"
  },
  "language_info": {
   "codemirror_mode": {
    "name": "ipython",
    "version": 3
   },
   "file_extension": ".py",
   "mimetype": "text/x-python",
   "name": "python",
   "nbconvert_exporter": "python",
   "pygments_lexer": "ipython3",
   "version": "3.8.8"
  }
 },
 "nbformat": 4,
 "nbformat_minor": 5
}

{
 "cells": [
  {
   "cell_type": "code",
   "execution_count": 1,
   "id": "d6255bc4",
   "metadata": {},
   "outputs": [],
   "source": [
    "class Account():\n",
    "    \n",
    "    def __init__(self,owner,balance):\n",
    "        self.owner = owner\n",
    "        self.balance = balance\n",
    "        \n",
    "    def deposit(self,deposit_amount):\n",
    "        self.balance = self.balance + deposit_amount\n",
    "        return f'Hey {self.owner}, you made a recent deposit of ${deposit_amount}. Your current balance is ${self.balance}'\n",
    "     \n",
    "    def withdraw(self,withdrawal_amount):\n",
    "        \n",
    "        if withdrawal_amount > self.balance:\n",
    "            print('Hey, the requested amount is more than your available balance.')\n",
    "            return f'Your current balance is {self.balance}'\n",
    "        \n",
    "        elif withdrawal_amount == self.balance:\n",
    "            self.balance = self.balance - withdrawal_amount\n",
    "            return f'You chose to wipe your account. Your current balance is ${self.balance}'\n",
    "        \n",
    "        else:\n",
    "            self.balance = self.balance - withdrawal_amount\n",
    "            return f'Hey {self.owner}, your withdrawal of ${withdrawal_amount} was successful. Your current balance is ${self.balance}'\n",
    "\n",
    "    def __str__(self):\n",
    "        return f'Hey {self.owner}, your current balance is ${self.balance}'\n",
    "            "
   ]
  },
  {
   "cell_type": "code",
   "execution_count": 2,
   "id": "32c54b5a",
   "metadata": {},
   "outputs": [],
   "source": [
    "# 1. Instantiate the class\n",
    "client_account = Account('Keshi',10000)"
   ]
  },
  {
   "cell_type": "code",
   "execution_count": 3,
   "id": "9d39a06e",
   "metadata": {},
   "outputs": [
    {
     "name": "stdout",
     "output_type": "stream",
     "text": [
      "Hey Keshi, your current balance is $10000\n"
     ]
    }
   ],
   "source": [
    "# 2. Print the object\n",
    "print(client_account)"
   ]
  },
  {
   "cell_type": "code",
   "execution_count": 4,
   "id": "10d1212b",
   "metadata": {},
   "outputs": [
    {
     "data": {
      "text/plain": [
       "'Keshi'"
      ]
     },
     "execution_count": 4,
     "metadata": {},
     "output_type": "execute_result"
    }
   ],
   "source": [
    "# 3. Show the account owner attribute\n",
    "client_account.owner"
   ]
  },
  {
   "cell_type": "code",
   "execution_count": 5,
   "id": "9674a63b",
   "metadata": {},
   "outputs": [
    {
     "data": {
      "text/plain": [
       "10000"
      ]
     },
     "execution_count": 5,
     "metadata": {},
     "output_type": "execute_result"
    }
   ],
   "source": [
    "# 4. Show the account balance attribute\n",
    "client_account.balance"
   ]
  },
  {
   "cell_type": "code",
   "execution_count": 6,
   "id": "a1c1befb",
   "metadata": {},
   "outputs": [
    {
     "data": {
      "text/plain": [
       "'Hey Keshi, you made a recent deposit of $5000. Your current balance is $15000'"
      ]
     },
     "execution_count": 6,
     "metadata": {},
     "output_type": "execute_result"
    }
   ],
   "source": [
    "# 5. Make a series of deposits and withdrawals\n",
    "client_account.deposit(5000)"
   ]
  },
  {
   "cell_type": "code",
   "execution_count": 9,
   "id": "2633e69e",
   "metadata": {},
   "outputs": [
    {
     "data": {
      "text/plain": [
       "'Hey Keshi, your withdrawal of $550 was successful. Your current balance is $13451'"
      ]
     },
     "execution_count": 9,
     "metadata": {},
     "output_type": "execute_result"
    }
   ],
   "source": [
    "client_account.withdraw(550)"
   ]
  },
  {
   "cell_type": "code",
   "execution_count": 10,
   "id": "89369c35",
   "metadata": {},
   "outputs": [
    {
     "data": {
      "text/plain": [
       "13451"
      ]
     },
     "execution_count": 10,
     "metadata": {},
     "output_type": "execute_result"
    }
   ],
   "source": [
    "client_account.balance"
   ]
  },
  {
   "cell_type": "code",
   "execution_count": null,
   "id": "6d3f7a9e",
   "metadata": {},
   "outputs": [],
   "source": []
  }
 ],
 "metadata": {
  "kernelspec": {
   "display_name": "Python 3",
   "language": "python",
   "name": "python3"
  },
  "language_info": {
   "codemirror_mode": {
    "name": "ipython",
    "version": 3
   },
   "file_extension": ".py",
   "mimetype": "text/x-python",
   "name": "python",
   "nbconvert_exporter": "python",
   "pygments_lexer": "ipython3",
   "version": "3.8.8"
  }
 },
 "nbformat": 4,
 "nbformat_minor": 5
}
